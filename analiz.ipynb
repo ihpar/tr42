{
 "cells": [
  {
   "cell_type": "code",
   "execution_count": 1,
   "metadata": {},
   "outputs": [],
   "source": [
    "import json\n",
    "from datetime import datetime\n",
    "import matplotlib.pyplot as plt\n",
    "from matplotlib import rcParams\n",
    "import numpy as np\n",
    "import pandas as pd\n",
    "\n",
    "rcParams[\"font.family\"] = \"Times\"\n"
   ]
  },
  {
   "cell_type": "code",
   "execution_count": 3,
   "metadata": {},
   "outputs": [
    {
     "name": "stdout",
     "output_type": "stream",
     "text": [
      "Kocaeli 11757\n",
      "Sakarya 4400\n",
      "Düzce 7506\n",
      "Bolu 1757\n",
      "Yalova 3703\n"
     ]
    },
    {
     "data": {
      "image/png": "[encoded data removed]",
      "text/plain": [
       "<Figure size 400x400 with 1 Axes>"
      ]
     },
     "metadata": {},
     "output_type": "display_data"
    }
   ],
   "source": [
    "medias = None\n",
    "labels = []\n",
    "counts = []\n",
    "with open(\"data/belediye_medias.json\", \"r\") as in_file:\n",
    "    medias = json.load(in_file)\n",
    "\n",
    "for b in medias:\n",
    "    labels.append(b[\"name\"])\n",
    "    counts.append(len(b[\"medias\"]))\n",
    "    print(b[\"name\"], len(b[\"medias\"]))\n",
    "\n",
    "labels = np.array(labels)\n",
    "counts = np.array(counts)\n",
    "inds = counts.argsort()\n",
    "labels = labels[inds]\n",
    "counts = np.sort(counts)\n",
    "fig1, ax = plt.subplots(figsize=(4, 4))\n",
    "ax.pie(counts, labels=labels, autopct='%1.1f%%', startangle=90)\n",
    "plt.tight_layout()\n",
    "plt.savefig(\"paylasim_oranlari.pdf\")\n",
    "plt.show()\n"
   ]
  },
  {
   "cell_type": "code",
   "execution_count": 80,
   "metadata": {},
   "outputs": [
    {
     "data": {
      "text/plain": [
       "29123"
      ]
     },
     "execution_count": 80,
     "metadata": {},
     "output_type": "execute_result"
    }
   ],
   "source": [
    "counts.sum()"
   ]
  },
  {
   "cell_type": "code",
   "execution_count": 15,
   "metadata": {},
   "outputs": [],
   "source": [
    "js = None\n",
    "with open(\"data/belediye_200_posts_fixed.json\", \"r\") as in_file:\n",
    "    js = json.load(in_file)\n"
   ]
  },
  {
   "cell_type": "code",
   "execution_count": 50,
   "metadata": {},
   "outputs": [
    {
     "name": "stdout",
     "output_type": "stream",
     "text": [
      "Belediye  Son okuma  İlk okuma  Aradaki gün Günlük ortalama post\n",
      " Kocaeli 10/12/2022 21/11/2022           18                11.11\n",
      " Sakarya 10/12/2022 06/11/2022           33                 6.06\n",
      "   Düzce 10/12/2022 03/11/2022           36                 5.56\n",
      "    Bolu 08/12/2022 22/04/2022          230                 0.87\n",
      "  Yalova 01/12/2022 19/10/2022           42                 4.76\n"
     ]
    }
   ],
   "source": [
    "rows = []\n",
    "for b in js:\n",
    "    first_media = b[\"medias\"][0]\n",
    "    last_media = b[\"medias\"][-1]\n",
    "    f_ts = first_media[\"ts\"]\n",
    "    l_ts = last_media[\"ts\"]\n",
    "    f_d = datetime.fromtimestamp(f_ts)\n",
    "    l_d = datetime.fromtimestamp(l_ts)\n",
    "    post_per_day = 200 / (f_d - l_d).days\n",
    "    row = {\n",
    "        \"Belediye\": b[\"name\"],\n",
    "        \"Son okuma\": f_d.strftime('%d/%m/%Y'),\n",
    "        \"İlk okuma\": l_d.strftime('%d/%m/%Y'),\n",
    "        \"Aradaki gün\": (f_d - l_d).days,\n",
    "        \"Günlük ortalama post\": \"{:.2f}\".format(post_per_day)\n",
    "    }\n",
    "    rows.append(row)\n",
    "    # print(row)\n",
    "\n",
    "df_gunluk = pd.DataFrame(rows)\n",
    "print(df_gunluk.to_string(index=False))\n"
   ]
  },
  {
   "cell_type": "code",
   "execution_count": 67,
   "metadata": {},
   "outputs": [
    {
     "name": "stdout",
     "output_type": "stream",
     "text": [
      "Belediye     Nüfus\n",
      " Kocaeli 2,033,441\n",
      " Sakarya 1,060,876\n",
      "   Düzce   400,976\n",
      "    Bolu   320,014\n",
      "  Yalova   291,001\n"
     ]
    }
   ],
   "source": [
    "population = [\n",
    "    {\"Belediye\": \"Kocaeli\", \"Nüfus\": 2033441},\n",
    "    {\"Belediye\": \"Sakarya\", \"Nüfus\": 1060876},\n",
    "    {\"Belediye\": \"Düzce\", \"Nüfus\": 400976},\n",
    "    {\"Belediye\": \"Bolu\", \"Nüfus\": 320014},\n",
    "    {\"Belediye\": \"Yalova\", \"Nüfus\":  291001}\n",
    "]\n",
    "\n",
    "df_population = pd.DataFrame(population)\n",
    "df_population[\"Nüfus\"] = df_population[\"Nüfus\"].apply(lambda x : \"{:,}\".format(x))\n",
    "print(df_population.to_string(index=False))\n"
   ]
  },
  {
   "cell_type": "code",
   "execution_count": 77,
   "metadata": {},
   "outputs": [
    {
     "name": "stdout",
     "output_type": "stream",
     "text": [
      "Belediye  Toplam Post  Toplam Yorum  Toplam Begeni Yor/Post Lik/Post Yor/Pop Lik/Pop Lik/Com\n",
      " Kocaeli          199          3245         248080    16.31  1246.63    1.60  122.00   76.45\n",
      " Sakarya          200           665          54359     3.33   271.80    0.63   51.24   81.74\n",
      "   Düzce          200          2078         157811    10.39   789.05    5.18  393.57   75.94\n",
      "    Bolu          164          3523         172343    21.48  1050.87   11.01  538.55   48.92\n",
      "  Yalova          199          1309          66142     6.58   332.37    4.50  227.29   50.53\n"
     ]
    }
   ],
   "source": [
    "pop_dict = {\n",
    "    \"Kocaeli\": 2033441,\n",
    "    \"Sakarya\": 1060876,\n",
    "    \"Düzce\":   400976,\n",
    "    \"Bolu\":   320014,\n",
    "    \"Yalova\":   291001\n",
    "}\n",
    "rows = []\n",
    "for b in js:\n",
    "    name = b[\"name\"]\n",
    "    medias = b[\"medias\"]\n",
    "    media_cnt = len(medias)\n",
    "    # print(name, media_cnt)\n",
    "    total_comments = 0\n",
    "    total_likes = 0\n",
    "    for media in medias:\n",
    "        com_cnt = media[\"com_cnt\"]\n",
    "        total_comments += com_cnt\n",
    "        likes = media[\"likes\"]\n",
    "        total_likes += likes\n",
    "\n",
    "    rows.append({\n",
    "        \"Belediye\": name,\n",
    "        \"Toplam Post\": media_cnt,\n",
    "        \"Toplam Yorum\": total_comments,\n",
    "        \"Toplam Begeni\": total_likes,\n",
    "        \"Yor/Post\": \"{:.2f}\".format(total_comments / media_cnt),\n",
    "        \"Lik/Post\": \"{:.2f}\".format(total_likes / media_cnt),\n",
    "        \"Yor/Pop\": \"{:.2f}\".format(total_comments / (pop_dict[name] / 1000)),\n",
    "        \"Lik/Pop\": \"{:.2f}\".format(total_likes / (pop_dict[name] / 1000)),\n",
    "        \"Lik/Com\": \"{:.2f}\".format(total_likes/total_comments)\n",
    "    })\n",
    "\n",
    "df_cl = pd.DataFrame(rows)\n",
    "print(df_cl.to_string(index=False))\n"
   ]
  }
 ],
 "metadata": {
  "kernelspec": {
   "display_name": "tfnew",
   "language": "python",
   "name": "python3"
  },
  "language_info": {
   "codemirror_mode": {
    "name": "ipython",
    "version": 3
   },
   "file_extension": ".py",
   "mimetype": "text/x-python",
   "name": "python",
   "nbconvert_exporter": "python",
   "pygments_lexer": "ipython3",
   "version": "3.9.13"
  },
  "orig_nbformat": 4,
  "vscode": {
   "interpreter": {
    "hash": "93a508892ad0418bbbef2f3796edd4c06527622cb95cdcc5e9525e8332085ac2"
   }
  }
 },
 "nbformat": 4,
 "nbformat_minor": 2
}
