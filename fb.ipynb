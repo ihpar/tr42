{
 "cells": [
  {
   "cell_type": "code",
   "execution_count": 1,
   "metadata": {},
   "outputs": [],
   "source": [
    "from facebook_scraper import get_posts\n",
    "import json\n"
   ]
  },
  {
   "cell_type": "code",
   "execution_count": 4,
   "metadata": {},
   "outputs": [],
   "source": [
    "POST_LIMIT = 200\n"
   ]
  },
  {
   "cell_type": "code",
   "execution_count": 35,
   "metadata": {},
   "outputs": [
    {
     "name": "stdout",
     "output_type": "stream",
     "text": [
      "0\n",
      "20\n",
      "40\n",
      "60\n",
      "80\n",
      "100\n",
      "120\n",
      "140\n",
      "160\n",
      "180\n"
     ]
    }
   ],
   "source": [
    "posts = []\n",
    "for i, post in enumerate(\n",
    "        get_posts(\"sakaryabld\", credentials=(\"\", \"\"),\n",
    "                  timeout=120, pages=100)):\n",
    "    if i == POST_LIMIT:\n",
    "        break\n",
    "    if i % 20 == 0:\n",
    "        print(i)\n",
    "    posts.append(post)\n"
   ]
  },
  {
   "cell_type": "code",
   "execution_count": 6,
   "metadata": {},
   "outputs": [],
   "source": [
    "\"\"\"\n",
    "belediyes = [\n",
    "    {\"name\": \"Kocaeli\", \"id\": \"kocaelibld\", \"posts\": []},\n",
    "    {\"name\": \"Bolu\", \"id\": \"bolubelediyesi\", \"posts\": []},\n",
    "    {\"name\": \"Yalova\", \"id\": \"yalovabld\", \"posts\": []},\n",
    "    {\"name\": \"Düzce\", \"id\": \"duzcebld\", \"posts\": []},\n",
    "    {\"name\": \"Sakarya\", \"id\": \"sakaryabld\", \"posts\": []}\n",
    "]\n",
    "\"\"\"\n"
   ]
  },
  {
   "cell_type": "code",
   "execution_count": 36,
   "metadata": {},
   "outputs": [
    {
     "data": {
      "text/plain": [
       "'Sakarya'"
      ]
     },
     "execution_count": 36,
     "metadata": {},
     "output_type": "execute_result"
    }
   ],
   "source": [
    "belediyes[4][\"name\"]\n"
   ]
  },
  {
   "cell_type": "code",
   "execution_count": 37,
   "metadata": {},
   "outputs": [
    {
     "data": {
      "text/plain": [
       "200"
      ]
     },
     "execution_count": 37,
     "metadata": {},
     "output_type": "execute_result"
    }
   ],
   "source": [
    "len(posts)\n"
   ]
  },
  {
   "cell_type": "code",
   "execution_count": 38,
   "metadata": {},
   "outputs": [],
   "source": [
    "belediyes[4][\"posts\"] = posts.copy()\n"
   ]
  },
  {
   "cell_type": "code",
   "execution_count": 39,
   "metadata": {},
   "outputs": [
    {
     "data": {
      "text/plain": [
       "200"
      ]
     },
     "execution_count": 39,
     "metadata": {},
     "output_type": "execute_result"
    }
   ],
   "source": [
    "len(belediyes[4][\"posts\"])\n"
   ]
  },
  {
   "cell_type": "code",
   "execution_count": 42,
   "metadata": {},
   "outputs": [
    {
     "data": {
      "text/plain": [
       "dict_keys(['post_id', 'text', 'post_text', 'shared_text', 'original_text', 'time', 'timestamp', 'image', 'image_lowquality', 'images', 'images_description', 'images_lowquality', 'images_lowquality_description', 'video', 'video_duration_seconds', 'video_height', 'video_id', 'video_quality', 'video_size_MB', 'video_thumbnail', 'video_watches', 'video_width', 'likes', 'comments', 'shares', 'post_url', 'link', 'links', 'user_id', 'username', 'user_url', 'is_live', 'factcheck', 'shared_post_id', 'shared_time', 'shared_user_id', 'shared_username', 'shared_post_url', 'available', 'comments_full', 'reactors', 'w3_fb_url', 'reactions', 'reaction_count', 'with', 'page_id', 'sharers', 'image_id', 'image_ids', 'video_ids', 'videos', 'was_live'])"
      ]
     },
     "execution_count": 42,
     "metadata": {},
     "output_type": "execute_result"
    }
   ],
   "source": [
    "belediyes[4][\"posts\"][0].keys()\n"
   ]
  },
  {
   "cell_type": "code",
   "execution_count": 43,
   "metadata": {},
   "outputs": [
    {
     "name": "stdout",
     "output_type": "stream",
     "text": [
      "1670863506\n",
      "49\n",
      "0\n",
      "9\n",
      "49\n"
     ]
    }
   ],
   "source": [
    "print(belediyes[4][\"posts\"][0][\"timestamp\"])\n",
    "print(belediyes[4][\"posts\"][0][\"likes\"])\n",
    "print(belediyes[4][\"posts\"][0][\"comments\"])\n",
    "print(belediyes[4][\"posts\"][0][\"shares\"])\n",
    "print(belediyes[4][\"posts\"][0][\"reaction_count\"])\n"
   ]
  },
  {
   "cell_type": "code",
   "execution_count": 41,
   "metadata": {},
   "outputs": [],
   "source": [
    "belediyes_fb = [\n",
    "    {\"name\": \"Kocaeli\", \"id\": \"kocaelibld\", \"posts\": []},\n",
    "    {\"name\": \"Bolu\", \"id\": \"bolubelediyesi\", \"posts\": []},\n",
    "    {\"name\": \"Yalova\", \"id\": \"yalovabld\", \"posts\": []},\n",
    "    {\"name\": \"Düzce\", \"id\": \"duzcebld\", \"posts\": []},\n",
    "    {\"name\": \"Sakarya\", \"id\": \"sakaryabld\", \"posts\": []}\n",
    "]\n"
   ]
  },
  {
   "cell_type": "code",
   "execution_count": 45,
   "metadata": {},
   "outputs": [],
   "source": [
    "for i, bel in enumerate(belediyes):\n",
    "    for post in bel[\"posts\"]:\n",
    "        belediyes_fb[i][\"posts\"].append({\n",
    "            \"timestamp\": post[\"timestamp\"],\n",
    "            \"likes\": post[\"likes\"],\n",
    "            \"comments\": post[\"comments\"],\n",
    "            \"shares\": post[\"shares\"],\n",
    "            \"reaction_count\": post[\"reaction_count\"]\n",
    "        })\n"
   ]
  },
  {
   "cell_type": "code",
   "execution_count": 46,
   "metadata": {},
   "outputs": [
    {
     "data": {
      "text/plain": [
       "{'timestamp': 1670836452,\n",
       " 'likes': 152,\n",
       " 'comments': 1,\n",
       " 'shares': 4,\n",
       " 'reaction_count': 152}"
      ]
     },
     "execution_count": 46,
     "metadata": {},
     "output_type": "execute_result"
    }
   ],
   "source": [
    "belediyes_fb[0][\"posts\"][0]"
   ]
  },
  {
   "cell_type": "code",
   "execution_count": 47,
   "metadata": {},
   "outputs": [],
   "source": [
    "with open(\"data/belediye_fb.json\", \"w\") as out_file:\n",
    "    json.dump(belediyes_fb, out_file, indent=4, ensure_ascii=False)\n"
   ]
  },
  {
   "cell_type": "code",
   "execution_count": null,
   "metadata": {},
   "outputs": [],
   "source": []
  }
 ],
 "metadata": {
  "kernelspec": {
   "display_name": "tfnew",
   "language": "python",
   "name": "python3"
  },
  "language_info": {
   "codemirror_mode": {
    "name": "ipython",
    "version": 3
   },
   "file_extension": ".py",
   "mimetype": "text/x-python",
   "name": "python",
   "nbconvert_exporter": "python",
   "pygments_lexer": "ipython3",
   "version": "3.9.13"
  },
  "orig_nbformat": 4,
  "vscode": {
   "interpreter": {
    "hash": "93a508892ad0418bbbef2f3796edd4c06527622cb95cdcc5e9525e8332085ac2"
   }
  }
 },
 "nbformat": 4,
 "nbformat_minor": 2
}
