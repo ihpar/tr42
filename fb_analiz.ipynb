{
 "cells": [
  {
   "cell_type": "code",
   "execution_count": 2,
   "metadata": {},
   "outputs": [],
   "source": [
    "import json\n",
    "from datetime import datetime\n",
    "import matplotlib.pyplot as plt\n",
    "from matplotlib import rcParams\n",
    "import numpy as np\n",
    "import pandas as pd\n",
    "\n",
    "rcParams[\"font.family\"] = \"Times\""
   ]
  },
  {
   "cell_type": "code",
   "execution_count": 3,
   "metadata": {},
   "outputs": [],
   "source": [
    "population = [\n",
    "    {\"Belediye\": \"Kocaeli\", \"Nüfus\": 2033441},\n",
    "    {\"Belediye\": \"Sakarya\", \"Nüfus\": 1060876},\n",
    "    {\"Belediye\": \"Düzce\", \"Nüfus\": 400976},\n",
    "    {\"Belediye\": \"Bolu\", \"Nüfus\": 320014},\n",
    "    {\"Belediye\": \"Yalova\", \"Nüfus\":  291001}\n",
    "]"
   ]
  },
  {
   "cell_type": "code",
   "execution_count": 4,
   "metadata": {},
   "outputs": [],
   "source": [
    "js = None\n",
    "with open(\"data/belediye_fb.json\", \"r\") as in_file:\n",
    "    js = json.load(in_file)"
   ]
  },
  {
   "cell_type": "code",
   "execution_count": 4,
   "metadata": {},
   "outputs": [
    {
     "name": "stdout",
     "output_type": "stream",
     "text": [
      "Belediye Son_okuma İlk_okuma Aradaki_gün Günlük_ortalama_post\n",
      "Kocaeli 12/12/2022 15/11/2022 26 7,69\n",
      "Bolu 12/12/2022 14/06/2022 181 1,10\n",
      "Yalova 01/12/2022 17/10/2022 44 4,55\n",
      "Düzce 12/12/2022 10/11/2022 32 6,25\n",
      "Sakarya 12/12/2022 24/10/2022 49 4,08\n"
     ]
    }
   ],
   "source": [
    "rows = []\n",
    "for b in js:\n",
    "    first_media = b[\"posts\"][0]\n",
    "    last_media = b[\"posts\"][-1]\n",
    "    f_ts = first_media[\"timestamp\"]\n",
    "    l_ts = last_media[\"timestamp\"]\n",
    "    f_d = datetime.fromtimestamp(f_ts)\n",
    "    l_d = datetime.fromtimestamp(l_ts)\n",
    "    post_per_day = 200 / (f_d - l_d).days\n",
    "    row = {\n",
    "        \"Belediye\": b[\"name\"],\n",
    "        \"Son_okuma\": f_d.strftime('%d/%m/%Y'),\n",
    "        \"İlk_okuma\": l_d.strftime('%d/%m/%Y'),\n",
    "        \"Aradaki_gün\": (f_d - l_d).days,\n",
    "        \"Günlük_ortalama_post\": \"{:.2f}\".format(post_per_day).replace(\".\", \",\")\n",
    "    }\n",
    "    rows.append(row)\n",
    "    # print(row)\n",
    "\n",
    "df_gunluk = pd.DataFrame(rows)\n",
    "df_strs = df_gunluk.to_string(index=False).split(\"\\n\")\n",
    "df_spaces = \"\\n\".join([\" \".join(x.split()) for x in df_strs])\n",
    "print(df_spaces)"
   ]
  },
  {
   "cell_type": "code",
   "execution_count": 5,
   "metadata": {},
   "outputs": [
    {
     "name": "stdout",
     "output_type": "stream",
     "text": [
      "Belediye Toplam_Yorum Toplam_Begeni Toplam_Share Yor/Post Lik/Post Share/Post Yor/Pop Lik/Pop Share/Pop Lik/Com\n",
      "Kocaeli 1792 40385 1797 8,96 201,93 8,98 0,88 19,86 0,88 22,54\n",
      "Bolu 2377 60788 2357 11,88 303,94 11,79 7,43 189,95 7,37 25,57\n",
      "Yalova 446 11573 438 2,23 57,87 2,19 1,53 39,77 1,51 25,95\n",
      "Düzce 950 22068 3515 4,75 110,34 17,57 2,37 55,04 8,77 23,23\n",
      "Sakarya 38 15594 1432 0,19 77,97 7,16 0,04 14,70 1,35 410,37\n"
     ]
    }
   ],
   "source": [
    "pop_dict = {\n",
    "    \"Kocaeli\": 2033441,\n",
    "    \"Sakarya\": 1060876,\n",
    "    \"Düzce\":   400976,\n",
    "    \"Bolu\":   320014,\n",
    "    \"Yalova\":   291001\n",
    "}\n",
    "rows = []\n",
    "for b in js:\n",
    "    name = b[\"name\"]\n",
    "    medias = b[\"posts\"]\n",
    "    media_cnt = len(medias)\n",
    "    # print(name, media_cnt)\n",
    "    total_comments = 0\n",
    "    total_likes = 0\n",
    "    total_shares = 0\n",
    "    for media in medias:\n",
    "        com_cnt = media[\"comments\"]\n",
    "        total_comments += com_cnt\n",
    "        likes = media[\"likes\"]\n",
    "        total_likes += likes\n",
    "        total_shares += media[\"shares\"]\n",
    "\n",
    "    rows.append({\n",
    "        \"Belediye\": name,\n",
    "        \"Toplam_Yorum\": total_comments,\n",
    "        \"Toplam_Begeni\": total_likes,\n",
    "        \"Toplam_Share\": total_shares,\n",
    "        \"Yor/Post\": \"{:.2f}\".format(total_comments / media_cnt).replace(\".\", \",\"),\n",
    "        \"Lik/Post\": \"{:.2f}\".format(total_likes / media_cnt).replace(\".\", \",\"),\n",
    "        \"Share/Post\": \"{:.2f}\".format(total_shares / media_cnt).replace(\".\", \",\"),\n",
    "        \"Yor/Pop\": \"{:.2f}\".format(total_comments / (pop_dict[name] / 1000)).replace(\".\", \",\"),\n",
    "        \"Lik/Pop\": \"{:.2f}\".format(total_likes / (pop_dict[name] / 1000)).replace(\".\", \",\"),\n",
    "        \"Share/Pop\": \"{:.2f}\".format(total_shares / (pop_dict[name] / 1000)).replace(\".\", \",\"),\n",
    "        \"Lik/Com\": \"{:.2f}\".format(total_likes/total_comments).replace(\".\", \",\")\n",
    "    })\n",
    "\n",
    "df_cl = pd.DataFrame(rows)\n",
    "df_strs = df_cl.to_string(index=False).split(\"\\n\")\n",
    "df_spaces = \"\\n\".join([\" \".join(x.split()) for x in df_strs])\n",
    "print(df_spaces)"
   ]
  }
 ],
 "metadata": {
  "kernelspec": {
   "display_name": "tfnew",
   "language": "python",
   "name": "python3"
  },
  "language_info": {
   "codemirror_mode": {
    "name": "ipython",
    "version": 3
   },
   "file_extension": ".py",
   "mimetype": "text/x-python",
   "name": "python",
   "nbconvert_exporter": "python",
   "pygments_lexer": "ipython3",
   "version": "3.9.13"
  },
  "orig_nbformat": 4,
  "vscode": {
   "interpreter": {
    "hash": "93a508892ad0418bbbef2f3796edd4c06527622cb95cdcc5e9525e8332085ac2"
   }
  }
 },
 "nbformat": 4,
 "nbformat_minor": 2
}
