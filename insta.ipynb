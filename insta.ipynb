{
 "cells": [
  {
   "cell_type": "code",
   "execution_count": null,
   "metadata": {},
   "outputs": [],
   "source": [
    "import instabot\n",
    "import pandas as pd\n",
    "import json\n",
    "from datetime import datetime\n",
    "import time\n",
    "import random\n"
   ]
  },
  {
   "cell_type": "code",
   "execution_count": null,
   "metadata": {},
   "outputs": [],
   "source": [
    "# 10 Aralık 2022"
   ]
  },
  {
   "cell_type": "code",
   "execution_count": null,
   "metadata": {},
   "outputs": [],
   "source": [
    "df = pd.read_excel(\"data/tr42.xlsx\")\n",
    "df.head()\n"
   ]
  },
  {
   "cell_type": "code",
   "execution_count": null,
   "metadata": {},
   "outputs": [],
   "source": [
    "bot = instabot.Bot()\n",
    "bot.login(username=\"\", password=\"\")\n"
   ]
  },
  {
   "cell_type": "code",
   "execution_count": null,
   "metadata": {},
   "outputs": [],
   "source": [
    "belediyes = []\n",
    "for i in range(len(df)):\n",
    "    row = df.iloc[i]\n",
    "    belediye = row[\"Belediye\"]\n",
    "    bel_u_name = row[\"Username\"]\n",
    "    user_id = bot.get_user_id_from_username(bel_u_name)\n",
    "    print(belediye, bel_u_name, user_id)\n",
    "    belediyes.append({\n",
    "        \"name\": belediye,\n",
    "        \"user_name\": bel_u_name,\n",
    "        \"user_id\": user_id\n",
    "    })\n"
   ]
  },
  {
   "cell_type": "code",
   "execution_count": null,
   "metadata": {},
   "outputs": [],
   "source": [
    "for i, bel in enumerate(belediyes):\n",
    "    id = bel[\"user_id\"]\n",
    "    print(id)\n",
    "    medias = bot.get_total_user_medias(id)\n",
    "    bel[\"medias\"] = medias\n"
   ]
  },
  {
   "cell_type": "code",
   "execution_count": null,
   "metadata": {},
   "outputs": [],
   "source": [
    "with open(\"data/belediye_medias.json\", \"w\") as out_file:\n",
    "    json.dump(belediyes, out_file, indent=4, ensure_ascii=False)\n"
   ]
  },
  {
   "cell_type": "code",
   "execution_count": null,
   "metadata": {},
   "outputs": [],
   "source": [
    "bel_json = None\n",
    "with open(\"data/belediye_medias.json\", \"r\") as in_file:\n",
    "    bel_json = json.load(in_file)\n"
   ]
  },
  {
   "cell_type": "code",
   "execution_count": null,
   "metadata": {},
   "outputs": [],
   "source": [
    "for bel in bel_json:\n",
    "    name = bel[\"name\"]\n",
    "    media_count = len(bel[\"medias\"])\n",
    "    print(name, media_count)\n"
   ]
  },
  {
   "cell_type": "code",
   "execution_count": null,
   "metadata": {},
   "outputs": [],
   "source": [
    "# past_year = datetime(year=2021, month=12, day=10)\n",
    "# past_year_stamp = time.mktime(past_year.timetuple())\n",
    "\n",
    "belediye_medias = []\n",
    "\n",
    "for b, bel in enumerate(bel_json):\n",
    "    name = bel[\"name\"]\n",
    "    belediye_medias.append({\"name\": name, \"medias\": []})\n",
    "    media_ids = bel[\"medias\"]\n",
    "\n",
    "    for i, media_id in enumerate(media_ids):\n",
    "        if i == 200:\n",
    "            break\n",
    "\n",
    "        if i % 20 == 0:\n",
    "            print(name, i)\n",
    "            time.sleep(10)\n",
    "\n",
    "        try:\n",
    "            media_info = bot.get_media_info(media_id)[0]\n",
    "\n",
    "            time_stamp = media_info[\"caption\"][\"created_at\"]\n",
    "            id = media_info[\"id\"]\n",
    "            comment_count = media_info[\"comment_count\"]\n",
    "            like_count = media_info[\"like_count\"]\n",
    "\n",
    "            belediye_medias[b][\"medias\"].append({\n",
    "                \"ts\": time_stamp,\n",
    "                \"id\": id,\n",
    "                \"com_cnt\": comment_count,\n",
    "                \"likes\": like_count\n",
    "            })\n",
    "        except:\n",
    "            print(\"Hata!\")\n",
    "\n",
    "    for t in range(2):\n",
    "        print(\"resting...\", t * 10)\n",
    "        time.sleep(10)\n",
    "\n",
    "\n",
    "with open(\"data/belediye_200_posts.json\", \"w\") as out_file:\n",
    "    json.dump(belediye_medias, out_file, indent=4, ensure_ascii=False)"
   ]
  },
  {
   "cell_type": "code",
   "execution_count": null,
   "metadata": {},
   "outputs": [],
   "source": [
    "# comments = bot.get_media_comments(\"2983473645440111225_8531055589\", True)\n"
   ]
  }
 ],
 "metadata": {
  "kernelspec": {
   "display_name": "tfnew",
   "language": "python",
   "name": "python3"
  },
  "language_info": {
   "codemirror_mode": {
    "name": "ipython",
    "version": 3
   },
   "file_extension": ".py",
   "mimetype": "text/x-python",
   "name": "python",
   "nbconvert_exporter": "python",
   "pygments_lexer": "ipython3",
   "version": "3.9.13 | packaged by conda-forge | (main, May 27 2022, 17:00:33) \n[Clang 13.0.1 ]"
  },
  "orig_nbformat": 4,
  "vscode": {
   "interpreter": {
    "hash": "93a508892ad0418bbbef2f3796edd4c06527622cb95cdcc5e9525e8332085ac2"
   }
  }
 },
 "nbformat": 4,
 "nbformat_minor": 2
}
