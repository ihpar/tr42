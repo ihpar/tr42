{
 "cells": [
  {
   "cell_type": "code",
   "execution_count": 23,
   "metadata": {},
   "outputs": [],
   "source": [
    "import snscrape.modules.twitter as sntwitter\n",
    "import json\n"
   ]
  },
  {
   "cell_type": "code",
   "execution_count": 6,
   "metadata": {},
   "outputs": [],
   "source": [
    "TWEET_LIMIT = 200\n"
   ]
  },
  {
   "cell_type": "code",
   "execution_count": 18,
   "metadata": {},
   "outputs": [],
   "source": [
    "belediye_accounts = [\n",
    "    {\"name\": \"Kocaeli\", \"id\": \"kocaelibld\", \"tweets\": []},\n",
    "    {\"name\": \"Bolu\", \"id\": \"bolu_belediyesi\", \"tweets\": []},\n",
    "    {\"name\": \"Yalova\", \"id\": \"yalovabld\", \"tweets\": []},\n",
    "    {\"name\": \"Düzce\", \"id\": \"duzcebld\", \"tweets\": []},\n",
    "    {\"name\": \"Sakarya\", \"id\": \"Sakaryabld\", \"tweets\": []}\n",
    "]\n"
   ]
  },
  {
   "cell_type": "code",
   "execution_count": 19,
   "metadata": {},
   "outputs": [
    {
     "name": "stdout",
     "output_type": "stream",
     "text": [
      "0 Kocaeli\n",
      "Ev sahipliğimizde yapılan Görme Engelliler Futsal Turnuvası sona erdi. Tüm sporcularımızı tebrik ediyoruz. 🏆\n",
      "\n",
      "#SporKentiKocaeli https://t.co/0f9qcWtdIR\n",
      "20 Kocaeli\n",
      "40 Kocaeli\n",
      "60 Kocaeli\n",
      "80 Kocaeli\n",
      "100 Kocaeli\n",
      "120 Kocaeli\n",
      "140 Kocaeli\n",
      "160 Kocaeli\n",
      "180 Kocaeli\n",
      "0 Bolu\n",
      "❤️🤍Başarılar kızlar https://t.co/u6WRiWza7O\n",
      "20 Bolu\n",
      "40 Bolu\n",
      "60 Bolu\n",
      "80 Bolu\n",
      "100 Bolu\n",
      "120 Bolu\n",
      "140 Bolu\n",
      "160 Bolu\n",
      "180 Bolu\n",
      "0 Yalova\n",
      "Çocuklarımıza trafik kültürünü ve bilincini aşılamak amacıyla, Trafik Eğitim Parkımızda eğitimlerimiz devam ediyor. 👮‍♀️🚥🚦🚸\n",
      "\n",
      "📍Volkan Taşgın Trafik Eğitim Pisti\n",
      "\n",
      "#YalovaSeninleGüzel \n",
      "#Yalova https://t.co/AgjpWaqOFQ\n",
      "20 Yalova\n",
      "40 Yalova\n",
      "60 Yalova\n",
      "80 Yalova\n",
      "100 Yalova\n",
      "120 Yalova\n",
      "140 Yalova\n",
      "160 Yalova\n",
      "180 Yalova\n",
      "0 Düzce\n",
      "https://t.co/batozxAfoR\n",
      "20 Düzce\n",
      "40 Düzce\n",
      "60 Düzce\n",
      "80 Düzce\n",
      "100 Düzce\n",
      "120 Düzce\n",
      "140 Düzce\n",
      "160 Düzce\n",
      "180 Düzce\n",
      "0 Sakarya\n",
      "Sakaryasporumuz Spor Toto 1. Lig’in 17. Haftasında Pendikspor’a konuk oluyor 💚🖤\n",
      "\n",
      "📆 12 Aralık Pazartesi (Bugün)\n",
      "⏰ 20.00\n",
      "🏟️ Pendik Stadyumu\n",
      "📺 TRT Spor\n",
      "\n",
      "Takımımıza başarılar diliyoruz 👏🏼\n",
      "\n",
      "#AvrupaSporŞehriSakarya https://t.co/hyYyywKSI1\n",
      "20 Sakarya\n",
      "40 Sakarya\n",
      "60 Sakarya\n",
      "80 Sakarya\n",
      "100 Sakarya\n",
      "120 Sakarya\n",
      "140 Sakarya\n",
      "160 Sakarya\n",
      "180 Sakarya\n"
     ]
    }
   ],
   "source": [
    "for bel in belediye_accounts:\n",
    "    user = sntwitter.TwitterUserScraper(bel[\"id\"])\n",
    "    for i, tweet in enumerate(user.get_items()):\n",
    "        if i == TWEET_LIMIT:\n",
    "            break\n",
    "\n",
    "        if i % 20 == 0:\n",
    "            print(i, bel[\"name\"])\n",
    "\n",
    "        if i == 0:\n",
    "            print(tweet.content)\n",
    "\n",
    "        bel[\"tweets\"].append(tweet)\n"
   ]
  },
  {
   "cell_type": "code",
   "execution_count": 26,
   "metadata": {},
   "outputs": [
    {
     "data": {
      "text/plain": [
       "{'url': 'https://twitter.com/kocaelibld/status/1602249475560554497',\n",
       " 'date': datetime.datetime(2022, 12, 12, 10, 30, 17, tzinfo=datetime.timezone.utc),\n",
       " 'content': 'Ev sahipliğimizde yapılan Görme Engelliler Futsal Turnuvası sona erdi. Tüm sporcularımızı tebrik ediyoruz. 🏆\\n\\n#SporKentiKocaeli https://t.co/0f9qcWtdIR',\n",
       " 'renderedContent': 'Ev sahipliğimizde yapılan Görme Engelliler Futsal Turnuvası sona erdi. Tüm sporcularımızı tebrik ediyoruz. 🏆\\n\\n#SporKentiKocaeli https://t.co/0f9qcWtdIR',\n",
       " 'id': 1602249475560554497,\n",
       " 'user': User(username='kocaelibld', id=495017777, displayname='Kocaeli Büyükşehir', description='Kocaeli Büyükşehir Resmî Hesabı\\n#ÇalışıncaOluyor \\n#MutluŞehirKocaeli\\n @tahirbuyukakin', rawDescription='Kocaeli Büyükşehir Resmî Hesabı\\n#ÇalışıncaOluyor \\n#MutluŞehirKocaeli\\n @tahirbuyukakin', descriptionUrls=None, verified=True, created=datetime.datetime(2012, 2, 17, 14, 18, 41, tzinfo=datetime.timezone.utc), followersCount=111579, friendsCount=159, statusesCount=35785, favouritesCount=6593, listedCount=120, mediaCount=27417, location='Kocaeli', protected=False, linkUrl='http://instagram.com/kocaelibld', linkTcourl='https://t.co/GXrUo7Iy1E', profileImageUrl='https://pbs.twimg.com/profile_images/1404245544785096704/w7F-lSOS_normal.jpg', profileBannerUrl='https://pbs.twimg.com/profile_banners/495017777/1598433258', label=None),\n",
       " 'replyCount': 1,\n",
       " 'retweetCount': 4,\n",
       " 'likeCount': 36,\n",
       " 'quoteCount': 0,\n",
       " 'conversationId': 1602249475560554497,\n",
       " 'lang': 'tr',\n",
       " 'source': '<a href=\"http://twitter.com/download/iphone\" rel=\"nofollow\">Twitter for iPhone</a>',\n",
       " 'sourceUrl': 'http://twitter.com/download/iphone',\n",
       " 'sourceLabel': 'Twitter for iPhone',\n",
       " 'outlinks': None,\n",
       " 'tcooutlinks': None,\n",
       " 'media': [Video(thumbnailUrl='https://pbs.twimg.com/ext_tw_video_thumb/1602249385299087361/pu/img/B_V0SFgNTUupDaSK.jpg', variants=[VideoVariant(contentType='video/mp4', url='https://video.twimg.com/ext_tw_video/1602249385299087361/pu/vid/480x270/zwml708V0M_XIEiw.mp4?tag=12', bitrate=256000), VideoVariant(contentType='application/x-mpegURL', url='https://video.twimg.com/ext_tw_video/1602249385299087361/pu/pl/wOvdSsqB8k8n6_5y.m3u8?tag=12&container=fmp4', bitrate=None), VideoVariant(contentType='video/mp4', url='https://video.twimg.com/ext_tw_video/1602249385299087361/pu/vid/1280x720/9Z-Jyy-N_XijQ0Eo.mp4?tag=12', bitrate=2176000), VideoVariant(contentType='video/mp4', url='https://video.twimg.com/ext_tw_video/1602249385299087361/pu/vid/640x360/KAssgUKxrW3ZZvzX.mp4?tag=12', bitrate=832000)], duration=53.056, views=523)],\n",
       " 'retweetedTweet': None,\n",
       " 'quotedTweet': None,\n",
       " 'inReplyToTweetId': None,\n",
       " 'inReplyToUser': None,\n",
       " 'mentionedUsers': None,\n",
       " 'coordinates': None,\n",
       " 'place': None,\n",
       " 'hashtags': ['SporKentiKocaeli'],\n",
       " 'cashtags': None}"
      ]
     },
     "execution_count": 26,
     "metadata": {},
     "output_type": "execute_result"
    }
   ],
   "source": [
    "belediye_accounts[0][\"tweets\"][0].__dict__\n"
   ]
  },
  {
   "cell_type": "code",
   "execution_count": 27,
   "metadata": {},
   "outputs": [
    {
     "name": "stdout",
     "output_type": "stream",
     "text": [
      "2022-12-12 10:30:17+00:00\n",
      "1\n",
      "4\n",
      "36\n",
      "0\n"
     ]
    }
   ],
   "source": [
    "print(belediye_accounts[0][\"tweets\"][0].date)\n",
    "print(belediye_accounts[0][\"tweets\"][0].replyCount)\n",
    "print(belediye_accounts[0][\"tweets\"][0].retweetCount)\n",
    "print(belediye_accounts[0][\"tweets\"][0].likeCount)\n",
    "print(belediye_accounts[0][\"tweets\"][0].quoteCount)\n"
   ]
  },
  {
   "cell_type": "code",
   "execution_count": 28,
   "metadata": {},
   "outputs": [],
   "source": [
    "for bel in belediye_accounts:\n",
    "    bel[\"jTweets\"] = []\n",
    "    for tweet in bel[\"tweets\"]:\n",
    "        bel[\"jTweets\"].append({\n",
    "            \"date\": tweet.date,\n",
    "            \"replyCount\": tweet.replyCount,\n",
    "            \"retweetCount\": tweet.retweetCount,\n",
    "            \"likeCount\": tweet.likeCount,\n",
    "            \"quoteCount\": tweet.quoteCount\n",
    "        })\n"
   ]
  },
  {
   "cell_type": "code",
   "execution_count": 34,
   "metadata": {},
   "outputs": [
    {
     "data": {
      "text/plain": [
       "1670841017.0"
      ]
     },
     "execution_count": 34,
     "metadata": {},
     "output_type": "execute_result"
    }
   ],
   "source": [
    "belediye_accounts[0][\"jTweets\"][0][\"date\"].timestamp()"
   ]
  },
  {
   "cell_type": "code",
   "execution_count": 35,
   "metadata": {},
   "outputs": [],
   "source": [
    "for bel in belediye_accounts:\n",
    "    for tweet in bel[\"jTweets\"]:\n",
    "        tweet[\"date\"] = tweet[\"date\"].timestamp()"
   ]
  },
  {
   "cell_type": "code",
   "execution_count": 36,
   "metadata": {},
   "outputs": [],
   "source": [
    "with open(\"data/belediye_twitter.json\", \"w\") as out_file:\n",
    "    json.dump(belediye_accounts, out_file, indent=4, ensure_ascii=False)\n"
   ]
  }
 ],
 "metadata": {
  "kernelspec": {
   "display_name": "tfnew",
   "language": "python",
   "name": "python3"
  },
  "language_info": {
   "codemirror_mode": {
    "name": "ipython",
    "version": 3
   },
   "file_extension": ".py",
   "mimetype": "text/x-python",
   "name": "python",
   "nbconvert_exporter": "python",
   "pygments_lexer": "ipython3",
   "version": "3.9.13"
  },
  "orig_nbformat": 4,
  "vscode": {
   "interpreter": {
    "hash": "93a508892ad0418bbbef2f3796edd4c06527622cb95cdcc5e9525e8332085ac2"
   }
  }
 },
 "nbformat": 4,
 "nbformat_minor": 2
}
