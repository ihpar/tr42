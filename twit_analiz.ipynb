{
 "cells": [
  {
   "cell_type": "code",
   "execution_count": 1,
   "metadata": {},
   "outputs": [],
   "source": [
    "import json\n",
    "from datetime import datetime\n",
    "import matplotlib.pyplot as plt\n",
    "from matplotlib import rcParams\n",
    "import numpy as np\n",
    "import pandas as pd\n",
    "\n",
    "rcParams[\"font.family\"] = \"Times\""
   ]
  },
  {
   "cell_type": "code",
   "execution_count": 14,
   "metadata": {},
   "outputs": [],
   "source": [
    "population = [\n",
    "    {\"Belediye\": \"Kocaeli\", \"Nüfus\": 2033441},\n",
    "    {\"Belediye\": \"Sakarya\", \"Nüfus\": 1060876},\n",
    "    {\"Belediye\": \"Düzce\", \"Nüfus\": 400976},\n",
    "    {\"Belediye\": \"Bolu\", \"Nüfus\": 320014},\n",
    "    {\"Belediye\": \"Yalova\", \"Nüfus\":  291001}\n",
    "]"
   ]
  },
  {
   "cell_type": "code",
   "execution_count": 2,
   "metadata": {},
   "outputs": [],
   "source": [
    "js = None\n",
    "with open(\"data/belediye_twitter.json\", \"r\") as in_file:\n",
    "    js = json.load(in_file)"
   ]
  },
  {
   "cell_type": "code",
   "execution_count": 13,
   "metadata": {},
   "outputs": [
    {
     "name": "stdout",
     "output_type": "stream",
     "text": [
      "Belediye Son_okuma İlk_okuma Aradaki_gün Günlük_ortalama_post\n",
      "Kocaeli 12/12/2022 17/11/2022 25 8,00\n",
      "Bolu 08/12/2022 02/03/2022 281 0,71\n",
      "Yalova 12/12/2022 14/10/2022 58 3,45\n",
      "Düzce 12/12/2022 17/11/2022 25 8,00\n",
      "Sakarya 12/12/2022 09/11/2022 32 6,25\n"
     ]
    }
   ],
   "source": [
    "rows = []\n",
    "for b in js:\n",
    "    first_media = b[\"tweets\"][0]\n",
    "    last_media = b[\"tweets\"][-1]\n",
    "    f_ts = first_media[\"date\"]\n",
    "    l_ts = last_media[\"date\"]\n",
    "    f_d = datetime.fromtimestamp(f_ts)\n",
    "    l_d = datetime.fromtimestamp(l_ts)\n",
    "    post_per_day = 200 / (f_d - l_d).days\n",
    "    row = {\n",
    "        \"Belediye\": b[\"name\"],\n",
    "        \"Son_okuma\": f_d.strftime('%d/%m/%Y'),\n",
    "        \"İlk_okuma\": l_d.strftime('%d/%m/%Y'),\n",
    "        \"Aradaki_gün\": (f_d - l_d).days,\n",
    "        \"Günlük_ortalama_post\": \"{:.2f}\".format(post_per_day).replace(\".\", \",\")\n",
    "    }\n",
    "    rows.append(row)\n",
    "    # print(row)\n",
    "\n",
    "df_gunluk = pd.DataFrame(rows)\n",
    "df_strs = df_gunluk.to_string(index=False).split(\"\\n\")\n",
    "df_spaces = \"\\n\".join([\" \".join(x.split()) for x in df_strs])\n",
    "print(df_spaces)"
   ]
  },
  {
   "cell_type": "code",
   "execution_count": 22,
   "metadata": {},
   "outputs": [
    {
     "name": "stdout",
     "output_type": "stream",
     "text": [
      "Belediye Toplam_Post Toplam_Yorum Toplam_Begeni Toplam_Retweet Toplam_Alıntı Yor/Post Lik/Post Yor/Pop Lik/Pop Ret/Pop Alıntı/Pop Lik/Com\n",
      "Kocaeli 200 501 15727 1441 50 2,50 78,64 0,25 7,73 0,71 0,02 31,39\n",
      "Bolu 200 559 20314 1738 90 2,79 101,57 1,75 63,48 5,43 0,28 36,34\n",
      "Yalova 200 87 3838 265 32 0,43 19,19 0,30 13,19 0,91 0,11 44,11\n",
      "Düzce 200 146 4497 484 31 0,73 22,48 0,36 11,22 1,21 0,08 30,80\n",
      "Sakarya 200 222 11132 2317 27 1,11 55,66 0,21 10,49 2,18 0,03 50,14\n"
     ]
    }
   ],
   "source": [
    "pop_dict = {\n",
    "    \"Kocaeli\": 2033441,\n",
    "    \"Sakarya\": 1060876,\n",
    "    \"Düzce\":   400976,\n",
    "    \"Bolu\":   320014,\n",
    "    \"Yalova\":   291001\n",
    "}\n",
    "rows = []\n",
    "for b in js:\n",
    "    name = b[\"name\"]\n",
    "    medias = b[\"tweets\"]\n",
    "    media_cnt = len(medias)\n",
    "    # print(name, media_cnt)\n",
    "    total_comments = 0\n",
    "    total_likes = 0\n",
    "    total_retweets = 0\n",
    "    total_quotes = 0\n",
    "    for media in medias:\n",
    "        com_cnt = media[\"replyCount\"]\n",
    "        total_comments += com_cnt\n",
    "        likes = media[\"likeCount\"]\n",
    "        total_likes += likes\n",
    "        total_retweets += media[\"retweetCount\"]\n",
    "        total_quotes += media[\"quoteCount\"]\n",
    "\n",
    "    rows.append({\n",
    "        \"Belediye\": name,\n",
    "        \"Toplam_Post\": media_cnt,\n",
    "        \"Toplam_Yorum\": total_comments,\n",
    "        \"Toplam_Begeni\": total_likes,\n",
    "        \"Toplam_Retweet\": total_retweets,\n",
    "        \"Toplam_Alıntı\": total_quotes,\n",
    "        \"Yor/Post\": \"{:.2f}\".format(total_comments / media_cnt).replace(\".\", \",\"),\n",
    "        \"Lik/Post\": \"{:.2f}\".format(total_likes / media_cnt).replace(\".\", \",\"),\n",
    "        \"Yor/Pop\": \"{:.2f}\".format(total_comments / (pop_dict[name] / 1000)).replace(\".\", \",\"),\n",
    "        \"Lik/Pop\": \"{:.2f}\".format(total_likes / (pop_dict[name] / 1000)).replace(\".\", \",\"),\n",
    "        \"Ret/Pop\": \"{:.2f}\".format(total_retweets / (pop_dict[name] / 1000)).replace(\".\", \",\"),\n",
    "        \"Alıntı/Pop\": \"{:.2f}\".format(total_quotes / (pop_dict[name] / 1000)).replace(\".\", \",\"),\n",
    "        \"Lik/Com\": \"{:.2f}\".format(total_likes/total_comments).replace(\".\", \",\")\n",
    "    })\n",
    "\n",
    "df_cl = pd.DataFrame(rows)\n",
    "df_strs = df_cl.to_string(index=False).split(\"\\n\")\n",
    "df_spaces = \"\\n\".join([\" \".join(x.split()) for x in df_strs])\n",
    "print(df_spaces)"
   ]
  },
  {
   "cell_type": "code",
   "execution_count": null,
   "metadata": {},
   "outputs": [],
   "source": []
  }
 ],
 "metadata": {
  "kernelspec": {
   "display_name": "tfnew",
   "language": "python",
   "name": "python3"
  },
  "language_info": {
   "codemirror_mode": {
    "name": "ipython",
    "version": 3
   },
   "file_extension": ".py",
   "mimetype": "text/x-python",
   "name": "python",
   "nbconvert_exporter": "python",
   "pygments_lexer": "ipython3",
   "version": "3.9.13"
  },
  "orig_nbformat": 4,
  "vscode": {
   "interpreter": {
    "hash": "93a508892ad0418bbbef2f3796edd4c06527622cb95cdcc5e9525e8332085ac2"
   }
  }
 },
 "nbformat": 4,
 "nbformat_minor": 2
}
